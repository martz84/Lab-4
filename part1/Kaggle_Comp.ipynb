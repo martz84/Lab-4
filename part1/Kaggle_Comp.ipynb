{
 "cells": [
  {
   "cell_type": "markdown",
   "id": "91ed34fc-3b36-434a-a85a-433cac715f8b",
   "metadata": {},
   "source": [
    "## BBC News Topic Classification — Unsupervised Approach using NMF\n",
    "\n",
    "In this notebook, we explore news article classification using an **unsupervised learning approach**. \n",
    "Specifically, we apply **Non-negative Matrix Factorization (NMF)** to discover latent topics from text and evaluate their alignment with known categories like `business`, `tech`, `sport`, `entertainment`, and `politics`."
   ]
  },
  {
   "cell_type": "code",
   "execution_count": 1,
   "id": "37c1e1f2-f44a-4080-b0d5-36ce0f95e8a8",
   "metadata": {},
   "outputs": [],
   "source": [
    "import pandas as pd\n",
    "import matplotlib.pyplot as plt\n",
    "import re\n",
    "from sklearn.feature_extraction.text import TfidfVectorizer\n",
    "import numpy as np\n",
    "from sklearn.decomposition import NMF\n",
    "from sklearn.preprocessing import LabelEncoder\n",
    "from sklearn.metrics import accuracy_score, confusion_matrix\n",
    "import seaborn as sns\n",
    "import re\n",
    "from sklearn.linear_model import LogisticRegression\n",
    "from sklearn.svm import LinearSVC"
   ]
  },
  {
   "cell_type": "code",
   "execution_count": 2,
   "id": "28be5f6b-933c-44c2-8156-0b62fd409d97",
   "metadata": {},
   "outputs": [],
   "source": [
    "# Clean individual text entry\n",
    "def clean_text(text):\n",
    "    text = text.lower()\n",
    "    text = re.sub(r'[^a-z\\s]', '', text)\n",
    "    text = re.sub(r'\\s+', ' ', text).strip()\n",
    "    return text\n",
    "\n",
    "# Load + clean a dataset with 'Text' column\n",
    "def load_and_clean_data(path):\n",
    "    df = pd.read_csv(path)\n",
    "    df['Clean_Text'] = df['Text'].apply(clean_text)\n",
    "    return df"
   ]
  },
  {
   "cell_type": "code",
   "execution_count": 3,
   "id": "f4dae3cf-24f8-4e5f-8409-f13dd85f1188",
   "metadata": {},
   "outputs": [
    {
     "data": {
      "text/plain": [
       "(   ArticleId                                               Text  Category  \\\n",
       " 0       1833  worldcom ex-boss launches defence lawyers defe...  business   \n",
       " 1        154  german business confidence slides german busin...  business   \n",
       " 2       1101  bbc poll indicates economic gloom citizens in ...  business   \n",
       " 3       1976  lifestyle  governs mobile choice  faster  bett...      tech   \n",
       " 4        917  enron bosses in $168m payout eighteen former e...  business   \n",
       " \n",
       "                                           Clean_Text  \n",
       " 0  worldcom exboss launches defence lawyers defen...  \n",
       " 1  german business confidence slides german busin...  \n",
       " 2  bbc poll indicates economic gloom citizens in ...  \n",
       " 3  lifestyle governs mobile choice faster better ...  \n",
       " 4  enron bosses in m payout eighteen former enron...  ,\n",
       "    ArticleId                                               Text  Category  \\\n",
       " 0       1833  worldcom ex-boss launches defence lawyers defe...  business   \n",
       " 1        154  german business confidence slides german busin...  business   \n",
       " 2       1101  bbc poll indicates economic gloom citizens in ...  business   \n",
       " 3       1976  lifestyle  governs mobile choice  faster  bett...      tech   \n",
       " 4        917  enron bosses in $168m payout eighteen former e...  business   \n",
       " \n",
       "                                           Clean_Text  \n",
       " 0  worldcom exboss launches defence lawyers defen...  \n",
       " 1  german business confidence slides german busin...  \n",
       " 2  bbc poll indicates economic gloom citizens in ...  \n",
       " 3  lifestyle governs mobile choice faster better ...  \n",
       " 4  enron bosses in m payout eighteen former enron...  ,\n",
       "    ArticleId       Category\n",
       " 0       1018          sport\n",
       " 1       1319           tech\n",
       " 2       1138       business\n",
       " 3        459  entertainment\n",
       " 4       1020       politics)"
      ]
     },
     "execution_count": 3,
     "metadata": {},
     "output_type": "execute_result"
    }
   ],
   "source": [
    "\n",
    "# Load the provided CSV files\n",
    "train_df = load_and_clean_data(\"BBC News Train.csv\")\n",
    "test_df = load_and_clean_data(\"BBC News Train.csv\")\n",
    "sample_df = pd.read_csv(\"BBC News Sample Solution.csv\")\n",
    "\n",
    "# Display the first few rows of each to get a feel for their structure\n",
    "train_df.head(), test_df.head(), sample_df.head()"
   ]
  },
  {
   "cell_type": "code",
   "execution_count": 4,
   "id": "9851e948-226f-4086-a657-815401a36d2d",
   "metadata": {},
   "outputs": [
    {
     "data": {
      "text/plain": [
       "(ArticleId     0\n",
       " Text          0\n",
       " Category      0\n",
       " Clean_Text    0\n",
       " dtype: int64,\n",
       " np.int64(0))"
      ]
     },
     "execution_count": 4,
     "metadata": {},
     "output_type": "execute_result"
    },
    {
     "data": {
      "image/png": "[encoded data removed]",
      "text/plain": [
       "<Figure size 800x500 with 1 Axes>"
      ]
     },
     "metadata": {},
     "output_type": "display_data"
    }
   ],
   "source": [
    "\n",
    "#This prepares the data for vectorization and helps reduce noise during topic modeling.\n",
    "\n",
    "# Check for missing values in the training dataset\n",
    "missing_values = train_df.isnull().sum() # count nulls\n",
    "\n",
    "# Check for duplicate entries\n",
    "duplicates = train_df.duplicated().sum() # count duplicated nulls\n",
    "\n",
    "# Check class distribution\n",
    "class_distribution = train_df['Category'].value_counts() # selects the Category column from the DataFrame and counts how many times each unique category appears in that column\n",
    "\n",
    "\n",
    "# Plotting class distribution\n",
    "plt.figure(figsize=(8, 5))\n",
    "class_distribution.plot(kind='bar', title='Category Distribution in Training Set')\n",
    "plt.xlabel('Category')\n",
    "plt.ylabel('Number of Articles')\n",
    "plt.tight_layout()\n",
    "\n",
    "missing_values, duplicates"
   ]
  },
  {
   "cell_type": "markdown",
   "id": "6cb4eabd-ca0b-480c-931f-63485c145f2b",
   "metadata": {},
   "source": [
    "## Data Cleaning\n",
    "\n",
    "We cleaned the raw text by:\n",
    "- Converting all characters to lowercase\n",
    "- Removing punctuation and numbers\n",
    "- Replacing multiple spaces with a single space"
   ]
  },
  {
   "cell_type": "code",
   "execution_count": 5,
   "id": "f69a8146-16d1-4eb8-99ed-a55755546167",
   "metadata": {},
   "outputs": [
    {
     "data": {
      "text/html": [
       "<div>\n",
       "<style scoped>\n",
       "    .dataframe tbody tr th:only-of-type {\n",
       "        vertical-align: middle;\n",
       "    }\n",
       "\n",
       "    .dataframe tbody tr th {\n",
       "        vertical-align: top;\n",
       "    }\n",
       "\n",
       "    .dataframe thead th {\n",
       "        text-align: right;\n",
       "    }\n",
       "</style>\n",
       "<table border=\"1\" class=\"dataframe\">\n",
       "  <thead>\n",
       "    <tr style=\"text-align: right;\">\n",
       "      <th></th>\n",
       "      <th>Text</th>\n",
       "      <th>Clean_Text</th>\n",
       "    </tr>\n",
       "  </thead>\n",
       "  <tbody>\n",
       "    <tr>\n",
       "      <th>0</th>\n",
       "      <td>worldcom ex-boss launches defence lawyers defe...</td>\n",
       "      <td>worldcom exboss launches defence lawyers defen...</td>\n",
       "    </tr>\n",
       "    <tr>\n",
       "      <th>1</th>\n",
       "      <td>german business confidence slides german busin...</td>\n",
       "      <td>german business confidence slides german busin...</td>\n",
       "    </tr>\n",
       "    <tr>\n",
       "      <th>2</th>\n",
       "      <td>bbc poll indicates economic gloom citizens in ...</td>\n",
       "      <td>bbc poll indicates economic gloom citizens in ...</td>\n",
       "    </tr>\n",
       "    <tr>\n",
       "      <th>3</th>\n",
       "      <td>lifestyle  governs mobile choice  faster  bett...</td>\n",
       "      <td>lifestyle governs mobile choice faster better ...</td>\n",
       "    </tr>\n",
       "    <tr>\n",
       "      <th>4</th>\n",
       "      <td>enron bosses in $168m payout eighteen former e...</td>\n",
       "      <td>enron bosses in m payout eighteen former enron...</td>\n",
       "    </tr>\n",
       "  </tbody>\n",
       "</table>\n",
       "</div>"
      ],
      "text/plain": [
       "                                                Text  \\\n",
       "0  worldcom ex-boss launches defence lawyers defe...   \n",
       "1  german business confidence slides german busin...   \n",
       "2  bbc poll indicates economic gloom citizens in ...   \n",
       "3  lifestyle  governs mobile choice  faster  bett...   \n",
       "4  enron bosses in $168m payout eighteen former e...   \n",
       "\n",
       "                                          Clean_Text  \n",
       "0  worldcom exboss launches defence lawyers defen...  \n",
       "1  german business confidence slides german busin...  \n",
       "2  bbc poll indicates economic gloom citizens in ...  \n",
       "3  lifestyle governs mobile choice faster better ...  \n",
       "4  enron bosses in m payout eighteen former enron...  "
      ]
     },
     "execution_count": 5,
     "metadata": {},
     "output_type": "execute_result"
    }
   ],
   "source": [
    "# Define a text cleaning function\n",
    "\n",
    "# Apply cleaning to the 'Text' column in the training set\n",
    "train_df['Clean_Text'] = train_df['Text'].apply(clean_text)\n",
    "\n",
    "# Show a few cleaned samples\n",
    "train_df[['Text', 'Clean_Text']].head()"
   ]
  },
  {
   "cell_type": "markdown",
   "id": "e1c187ca-001b-4a24-825f-18b3668890c4",
   "metadata": {},
   "source": [
    "## Feature Extraction using TF-IDF\n",
    "\n",
    "I used **TfidfVectorizer** from `sklearn` to convert the cleaned text into numerical vectors.\n",
    "TF-IDF assigns higher weights to words that are important to a specific document but rare across the corpus, helping to highlight meaningful content per article."
   ]
  },
  {
   "cell_type": "code",
   "execution_count": 6,
   "id": "150e028d-266f-4260-9786-14ea981cfe0a",
   "metadata": {},
   "outputs": [
    {
     "data": {
      "text/html": [
       "<div>\n",
       "<style scoped>\n",
       "    .dataframe tbody tr th:only-of-type {\n",
       "        vertical-align: middle;\n",
       "    }\n",
       "\n",
       "    .dataframe tbody tr th {\n",
       "        vertical-align: top;\n",
       "    }\n",
       "\n",
       "    .dataframe thead th {\n",
       "        text-align: right;\n",
       "    }\n",
       "</style>\n",
       "<table border=\"1\" class=\"dataframe\">\n",
       "  <thead>\n",
       "    <tr style=\"text-align: right;\">\n",
       "      <th></th>\n",
       "      <th>business</th>\n",
       "      <th>entertainment</th>\n",
       "      <th>politics</th>\n",
       "      <th>sport</th>\n",
       "      <th>tech</th>\n",
       "    </tr>\n",
       "  </thead>\n",
       "  <tbody>\n",
       "    <tr>\n",
       "      <th>0</th>\n",
       "      <td>(said, 0.638)</td>\n",
       "      <td>(said, 0.468)</td>\n",
       "      <td>(said, 0.62)</td>\n",
       "      <td>(said, 0.473)</td>\n",
       "      <td>(said, 0.57)</td>\n",
       "    </tr>\n",
       "    <tr>\n",
       "      <th>1</th>\n",
       "      <td>(bn, 0.307)</td>\n",
       "      <td>(film, 0.436)</td>\n",
       "      <td>(mr, 0.461)</td>\n",
       "      <td>(game, 0.262)</td>\n",
       "      <td>(people, 0.346)</td>\n",
       "    </tr>\n",
       "    <tr>\n",
       "      <th>2</th>\n",
       "      <td>(year, 0.242)</td>\n",
       "      <td>(best, 0.318)</td>\n",
       "      <td>(labour, 0.209)</td>\n",
       "      <td>(england, 0.244)</td>\n",
       "      <td>(new, 0.187)</td>\n",
       "    </tr>\n",
       "    <tr>\n",
       "      <th>3</th>\n",
       "      <td>(mr, 0.228)</td>\n",
       "      <td>(year, 0.207)</td>\n",
       "      <td>(government, 0.198)</td>\n",
       "      <td>(win, 0.217)</td>\n",
       "      <td>(mr, 0.187)</td>\n",
       "    </tr>\n",
       "    <tr>\n",
       "      <th>4</th>\n",
       "      <td>(market, 0.161)</td>\n",
       "      <td>(music, 0.201)</td>\n",
       "      <td>(election, 0.17)</td>\n",
       "      <td>(world, 0.194)</td>\n",
       "      <td>(mobile, 0.175)</td>\n",
       "    </tr>\n",
       "    <tr>\n",
       "      <th>5</th>\n",
       "      <td>(new, 0.158)</td>\n",
       "      <td>(new, 0.184)</td>\n",
       "      <td>(blair, 0.167)</td>\n",
       "      <td>(time, 0.166)</td>\n",
       "      <td>(technology, 0.162)</td>\n",
       "    </tr>\n",
       "    <tr>\n",
       "      <th>6</th>\n",
       "      <td>(firm, 0.151)</td>\n",
       "      <td>(awards, 0.145)</td>\n",
       "      <td>(people, 0.16)</td>\n",
       "      <td>(players, 0.155)</td>\n",
       "      <td>(users, 0.143)</td>\n",
       "    </tr>\n",
       "    <tr>\n",
       "      <th>7</th>\n",
       "      <td>(growth, 0.149)</td>\n",
       "      <td>(uk, 0.133)</td>\n",
       "      <td>(party, 0.155)</td>\n",
       "      <td>(cup, 0.152)</td>\n",
       "      <td>(software, 0.142)</td>\n",
       "    </tr>\n",
       "    <tr>\n",
       "      <th>8</th>\n",
       "      <td>(company, 0.146)</td>\n",
       "      <td>(actor, 0.132)</td>\n",
       "      <td>(minister, 0.122)</td>\n",
       "      <td>(new, 0.147)</td>\n",
       "      <td>(use, 0.138)</td>\n",
       "    </tr>\n",
       "    <tr>\n",
       "      <th>9</th>\n",
       "      <td>(economy, 0.135)</td>\n",
       "      <td>(number, 0.13)</td>\n",
       "      <td>(new, 0.12)</td>\n",
       "      <td>(ireland, 0.144)</td>\n",
       "      <td>(music, 0.136)</td>\n",
       "    </tr>\n",
       "  </tbody>\n",
       "</table>\n",
       "</div>"
      ],
      "text/plain": [
       "           business    entertainment             politics             sport  \\\n",
       "0     (said, 0.638)    (said, 0.468)         (said, 0.62)     (said, 0.473)   \n",
       "1       (bn, 0.307)    (film, 0.436)          (mr, 0.461)     (game, 0.262)   \n",
       "2     (year, 0.242)    (best, 0.318)      (labour, 0.209)  (england, 0.244)   \n",
       "3       (mr, 0.228)    (year, 0.207)  (government, 0.198)      (win, 0.217)   \n",
       "4   (market, 0.161)   (music, 0.201)     (election, 0.17)    (world, 0.194)   \n",
       "5      (new, 0.158)     (new, 0.184)       (blair, 0.167)     (time, 0.166)   \n",
       "6     (firm, 0.151)  (awards, 0.145)       (people, 0.16)  (players, 0.155)   \n",
       "7   (growth, 0.149)      (uk, 0.133)       (party, 0.155)      (cup, 0.152)   \n",
       "8  (company, 0.146)   (actor, 0.132)    (minister, 0.122)      (new, 0.147)   \n",
       "9  (economy, 0.135)   (number, 0.13)          (new, 0.12)  (ireland, 0.144)   \n",
       "\n",
       "                  tech  \n",
       "0         (said, 0.57)  \n",
       "1      (people, 0.346)  \n",
       "2         (new, 0.187)  \n",
       "3          (mr, 0.187)  \n",
       "4      (mobile, 0.175)  \n",
       "5  (technology, 0.162)  \n",
       "6       (users, 0.143)  \n",
       "7    (software, 0.142)  \n",
       "8         (use, 0.138)  \n",
       "9       (music, 0.136)  "
      ]
     },
     "execution_count": 6,
     "metadata": {},
     "output_type": "execute_result"
    }
   ],
   "source": [
    "\n",
    "# We'll group by category and concatenate all text in each\n",
    "category_texts = train_df.groupby(\"Category\")[\"Clean_Text\"].apply(lambda x: \" \".join(x)).reset_index()\n",
    "\n",
    "# Initialize TF-IDF Vectorizer\n",
    "vectorizer = TfidfVectorizer(max_features=50, stop_words='english')  # top 50 words, remove stopwords\n",
    "\n",
    "top_words_by_category = {}  # Initialize the dictionary first\n",
    "\n",
    "# Compute and extract top TF-IDF words per category\n",
    "for _, row in category_texts.iterrows():\n",
    "    category = row['Category']\n",
    "    text = row['Clean_Text']\n",
    "    tfidf_matrix = vectorizer.fit_transform([text])\n",
    "    scores = tfidf_matrix.toarray()[0]\n",
    "    feature_names = vectorizer.get_feature_names_out()\n",
    "    \n",
    "    # Get top 10 words for this category\n",
    "    top_indices = np.argsort(scores)[::-1][:10]\n",
    "    top_words = [(feature_names[i], round(scores[i], 3)) for i in top_indices]\n",
    "    top_words_by_category[category] = top_words\n",
    "\n",
    "# Convert to DataFrame and display\n",
    "df_top_words = pd.DataFrame(top_words_by_category)\n",
    "df_top_words\n",
    "    "
   ]
  },
  {
   "cell_type": "markdown",
   "id": "9dafbd25-4775-46d8-840a-1f627841caa1",
   "metadata": {},
   "source": [
    "To extract meaningful features from news articles, I used the TF-IDF (Term Frequency–Inverse Document Frequency) technique.\n",
    "\n",
    "TF-IDF is a method that helps identify the most important words in a document by considering two things:\n",
    "Term Frequency (TF): how often a word appears in a document.\n",
    "Inverse Document Frequency (IDF): how rare that word is across all documents.\n",
    "The idea is that if a word appears frequently in one article but rarely in others, it's probably important for that article. On the other hand, common words like \"the\", \"and\", or \"said\" are ignored because they appear everywhere and don’t help distinguish between categories.\n",
    "I used TF-IDF to extract and rank the top 10 words that best represent each news category. These keywords give a strong indication of what each category is about (e.g., “election” for politics, “mobile” for tech).\n",
    "\n",
    "Reference List\n",
    "Scikit-learn Documentation – TF-IDF Vectorizer. https://scikit-learn.org/stable/modules/generated/sklearn.feature_extraction.text.TfidfVectorizer.html\n",
    "geeksforgeeks.org – Understanding TF-IDF. https://www.geeksforgeeks.org/understanding-tf-idf-term-frequency-inverse-document-frequency/\n"
   ]
  },
  {
   "cell_type": "markdown",
   "id": "d177507a-4936-4950-832b-27ad75943e0d",
   "metadata": {},
   "source": [
    "# Step 2\n",
    "Think about this and answer: when you train the unsupervised model for matrix factorization, should you include texts (word features) from the test dataset or not as the input matrix? Why or why not?\n",
    "    No, we should not include the test dataset when training the unsupervised model. The model should only learn from the training set to avoid data leakage. Including test data would give the model access to unseen information and bias the results."
   ]
  },
  {
   "cell_type": "markdown",
   "id": "2db4bc37-63f7-4d4a-bac0-a7c6eeef7b7b",
   "metadata": {},
   "source": [
    "## Topic Modeling with NMF\n",
    "\n",
    "We applied **Non-negative Matrix Factorization (NMF)** to the TF-IDF matrix to identify 5 latent topics\n",
    "(corresponding to the 5 known categories). Each article was then assigned to the topic with the highest weight."
   ]
  },
  {
   "cell_type": "code",
   "execution_count": 7,
   "id": "0e2a04a9-c6e3-43b4-9ab0-0326506a71b8",
   "metadata": {},
   "outputs": [
    {
     "data": {
      "image/png": "[encoded data removed]",
      "text/plain": [
       "<Figure size 600x500 with 2 Axes>"
      ]
     },
     "metadata": {},
     "output_type": "display_data"
    },
    {
     "name": "stdout",
     "output_type": "stream",
     "text": [
      "accuracy:\n"
     ]
    },
    {
     "data": {
      "text/plain": [
       "0.17785234899328858"
      ]
     },
     "execution_count": 7,
     "metadata": {},
     "output_type": "execute_result"
    }
   ],
   "source": [
    "\n",
    "#Although this is an **unsupervised model**, we compare its output with the labeled categories to measure performance.\n",
    "\n",
    "X_train_tfidf = vectorizer.fit_transform(train_df['Clean_Text'])\n",
    "\n",
    "# Apply NMF\n",
    "nmf = NMF(n_components=5, random_state=42)\n",
    "W = nmf.fit_transform(X_train_tfidf)\n",
    "\n",
    "# Predict topics\n",
    "predicted_topics = W.argmax(axis=1)\n",
    "\n",
    "# Encode actual labels\n",
    "label_encoder = LabelEncoder()\n",
    "true_labels = label_encoder.fit_transform(train_df['Category'])\n",
    "\n",
    "# Evaluate\n",
    "accuracy = accuracy_score(true_labels, predicted_topics)\n",
    "conf_matrix = confusion_matrix(true_labels, predicted_topics)\n",
    "\n",
    "# Plot confusion matrix\n",
    "plt.figure(figsize=(6, 5))\n",
    "sns.heatmap(conf_matrix, annot=True, fmt='d', xticklabels=label_encoder.classes_, yticklabels=label_encoder.classes_)\n",
    "plt.xlabel(\"Predicted\")\n",
    "plt.ylabel(\"True\")\n",
    "plt.title(f\"NMF Topic Modeling — Accuracy: {accuracy:.2f}\")\n",
    "plt.tight_layout()\n",
    "plt.show()\n",
    "print(\"accuracy:\")\n",
    "accuracy"
   ]
  },
  {
   "cell_type": "markdown",
   "id": "d76f51c4-69c2-49c8-a074-9f31fdd32a82",
   "metadata": {},
   "source": [
    "### Try different values for number of NMF components"
   ]
  },
  {
   "cell_type": "code",
   "execution_count": 8,
   "id": "a71be127-6414-4a51-a96a-a658389ddb94",
   "metadata": {},
   "outputs": [
    {
     "data": {
      "image/png": "[encoded data removed]",
      "text/plain": [
       "<Figure size 600x400 with 1 Axes>"
      ]
     },
     "metadata": {},
     "output_type": "display_data"
    },
    {
     "data": {
      "text/html": [
       "<div>\n",
       "<style scoped>\n",
       "    .dataframe tbody tr th:only-of-type {\n",
       "        vertical-align: middle;\n",
       "    }\n",
       "\n",
       "    .dataframe tbody tr th {\n",
       "        vertical-align: top;\n",
       "    }\n",
       "\n",
       "    .dataframe thead th {\n",
       "        text-align: right;\n",
       "    }\n",
       "</style>\n",
       "<table border=\"1\" class=\"dataframe\">\n",
       "  <thead>\n",
       "    <tr style=\"text-align: right;\">\n",
       "      <th></th>\n",
       "      <th>n_components</th>\n",
       "      <th>Train Accuracy</th>\n",
       "    </tr>\n",
       "  </thead>\n",
       "  <tbody>\n",
       "    <tr>\n",
       "      <th>0</th>\n",
       "      <td>4</td>\n",
       "      <td>0.119463</td>\n",
       "    </tr>\n",
       "    <tr>\n",
       "      <th>1</th>\n",
       "      <td>5</td>\n",
       "      <td>0.177852</td>\n",
       "    </tr>\n",
       "    <tr>\n",
       "      <th>2</th>\n",
       "      <td>6</td>\n",
       "      <td>0.186577</td>\n",
       "    </tr>\n",
       "    <tr>\n",
       "      <th>3</th>\n",
       "      <td>7</td>\n",
       "      <td>0.170470</td>\n",
       "    </tr>\n",
       "  </tbody>\n",
       "</table>\n",
       "</div>"
      ],
      "text/plain": [
       "   n_components  Train Accuracy\n",
       "0             4        0.119463\n",
       "1             5        0.177852\n",
       "2             6        0.186577\n",
       "3             7        0.170470"
      ]
     },
     "execution_count": 8,
     "metadata": {},
     "output_type": "execute_result"
    }
   ],
   "source": [
    "\n",
    "component_range = [4, 5, 6, 7]\n",
    "results = []\n",
    "label_encoder = LabelEncoder()\n",
    "encoded_labels = label_encoder.fit_transform(train_df['Category'])\n",
    "\n",
    "for k in component_range:\n",
    "    # Train a new NMF model\n",
    "    nmf_k = NMF(n_components=k, random_state=42)\n",
    "    W_k = nmf_k.fit_transform(X_train_tfidf)\n",
    "    train_preds_k = W_k.argmax(axis=1)\n",
    "\n",
    "    # Compare to true encoded labels\n",
    "    acc = accuracy_score(encoded_labels, train_preds_k)\n",
    "    results.append((k, acc))\n",
    "\n",
    "# Convert to DataFrame for display\n",
    "results_df = pd.DataFrame(results, columns=[\"n_components\", \"Train Accuracy\"])\n",
    "\n",
    "# Plotting\n",
    "plt.figure(figsize=(6, 4))\n",
    "plt.plot(results_df[\"n_components\"], results_df[\"Train Accuracy\"], marker='o')\n",
    "plt.title(\"NMF Accuracy vs. Number of Components\")\n",
    "plt.xlabel(\"n_components\")\n",
    "plt.ylabel(\"Train Accuracy\")\n",
    "plt.grid(True)\n",
    "plt.tight_layout()\n",
    "plt.show()\n",
    "\n",
    "\n",
    "results_df"
   ]
  },
  {
   "cell_type": "markdown",
   "id": "22d4dd6d-a57c-491f-a492-d3fbc9427951",
   "metadata": {},
   "source": [
    "6 components gives the highest performance, even slightly better than 5."
   ]
  },
  {
   "cell_type": "markdown",
   "id": "5c32dccf-3fcd-4bd1-94be-9bbacccabcef",
   "metadata": {},
   "source": [
    "### I'll try improving the TF-IDF feature extraction by:\n",
    "    -Using n-grams\n",
    "    -Increasing max_features"
   ]
  },
  {
   "cell_type": "code",
   "execution_count": 9,
   "id": "dfd47001-d9b2-4f97-a249-649833cb3036",
   "metadata": {},
   "outputs": [
    {
     "data": {
      "text/plain": [
       "0.18590604026845636"
      ]
     },
     "execution_count": 9,
     "metadata": {},
     "output_type": "execute_result"
    }
   ],
   "source": [
    "# Re-encode true labels from training data\n",
    "label_encoder = LabelEncoder()\n",
    "encoded_labels = label_encoder.fit_transform(train_df['Category'])\n",
    "\n",
    "# Use bigrams + increased max_features\n",
    "vectorizer_improved = TfidfVectorizer(max_features=3000, stop_words='english', ngram_range=(1, 2))\n",
    "X_train_tfidf_improved = vectorizer_improved.fit_transform(train_df['Clean_Text'])\n",
    "\n",
    "# Train NMF with best n_components from tuning (6)\n",
    "nmf_improved = NMF(n_components=6, random_state=42)\n",
    "W_improved = nmf_improved.fit_transform(X_train_tfidf_improved)\n",
    "train_preds_improved = W_improved.argmax(axis=1)\n",
    "\n",
    "# Evaluate\n",
    "accuracy_improved = accuracy_score(encoded_labels, train_preds_improved)\n",
    "accuracy_improved"
   ]
  },
  {
   "cell_type": "markdown",
   "id": "dd150dca-c4a1-40f1-b05c-aadbb6c924be",
   "metadata": {},
   "source": [
    "## Improve the Model Performance\n",
    "\n",
    "To improve the performance of our unsupervised model, we experimented with enhanced feature extraction techniques using `TfidfVectorizer`.\n",
    "\n",
    "### Modifications Applied:\n",
    "- **Increased `max_features`** from 1000 → **3000** to capture a richer vocabulary.\n",
    "- **Included bigrams** by setting `ngram_range=(1, 2)`, allowing the model to learn from 2-word phrases like \"stock market\" or \"prime minister\".\n",
    "\n",
    "### Results:\n",
    "- Using `n_components=6` (our best result from tuning), we retrained the model with the improved features.\n",
    "- The model achieved a training accuracy of **~18.6%**, which is **comparable to the best accuracy (18.7%)** using default TF-IDF settings.\n",
    "- While the accuracy did not improve significantly, this test demonstrates that more complex features do not always lead to better performance in unsupervised learning, especially when category overlap exists.\n",
    "\n",
    "### Conclusion:\n",
    "- Feature improvement using bigrams and a larger vocabulary was valuable for experimentation.\n",
    "- The simplest configuration with `max_features=1000` and `n_components=6` remains the best performing setup."
   ]
  },
  {
   "cell_type": "markdown",
   "id": "781658f0-33ea-4232-9dd0-2960a6ccc841",
   "metadata": {},
   "source": [
    "# Step 3\n",
    "Compare with supervised learning"
   ]
  },
  {
   "cell_type": "code",
   "execution_count": 10,
   "id": "67364d09-2e33-4f6c-bbeb-c5db4a14363d",
   "metadata": {},
   "outputs": [
    {
     "data": {
      "text/html": [
       "<div>\n",
       "<style scoped>\n",
       "    .dataframe tbody tr th:only-of-type {\n",
       "        vertical-align: middle;\n",
       "    }\n",
       "\n",
       "    .dataframe tbody tr th {\n",
       "        vertical-align: top;\n",
       "    }\n",
       "\n",
       "    .dataframe thead th {\n",
       "        text-align: right;\n",
       "    }\n",
       "</style>\n",
       "<table border=\"1\" class=\"dataframe\">\n",
       "  <thead>\n",
       "    <tr style=\"text-align: right;\">\n",
       "      <th></th>\n",
       "      <th>Model</th>\n",
       "      <th>Train Accuracy</th>\n",
       "      <th>Test Accuracy</th>\n",
       "    </tr>\n",
       "  </thead>\n",
       "  <tbody>\n",
       "    <tr>\n",
       "      <th>0</th>\n",
       "      <td>Logistic Regression</td>\n",
       "      <td>0.992617</td>\n",
       "      <td>0.189116</td>\n",
       "    </tr>\n",
       "    <tr>\n",
       "      <th>1</th>\n",
       "      <td>Linear SVM</td>\n",
       "      <td>1.000000</td>\n",
       "      <td>0.190476</td>\n",
       "    </tr>\n",
       "  </tbody>\n",
       "</table>\n",
       "</div>"
      ],
      "text/plain": [
       "                 Model  Train Accuracy  Test Accuracy\n",
       "0  Logistic Regression        0.992617       0.189116\n",
       "1           Linear SVM        1.000000       0.190476"
      ]
     },
     "execution_count": 10,
     "metadata": {},
     "output_type": "execute_result"
    }
   ],
   "source": [
    "# 1) Load & clean both datasets\n",
    "train_df = load_and_clean_data(\"BBC News Train.csv\")\n",
    "test_df  = load_and_clean_data(\"BBC News Test.csv\")\n",
    "\n",
    "# 2) Vectorize\n",
    "#from sklearn.feature_extraction.text import TfidfVectorizer\n",
    "vect = TfidfVectorizer(max_features=1000, stop_words=\"english\")\n",
    "X_train = vect.fit_transform(train_df[\"Clean_Text\"])\n",
    "X_test  = vect.transform (test_df [\"Clean_Text\"])\n",
    "\n",
    "# 3) Encode labels\n",
    "#from sklearn.preprocessing import LabelEncoder\n",
    "le      = LabelEncoder()\n",
    "y_train = le.fit_transform(train_df[\"Category\"])\n",
    "\n",
    "#import pandas as pd\n",
    "sample  = pd.read_csv(\"BBC News Sample Solution.csv\")\n",
    "y_test  = le.transform(sample[\"Category\"])  # must be same length: 735\n",
    "\n",
    "# 4) Train both models\n",
    "#from sklearn.linear_model import LogisticRegression\n",
    "#from sklearn.svm      import LinearSVC\n",
    "\n",
    "lr  = LogisticRegression(max_iter=1000, random_state=42).fit(X_train, y_train)\n",
    "svm = LinearSVC(random_state=42)              .fit(X_train, y_train)\n",
    "\n",
    "# 5) Predict **correctly** on train and test\n",
    "y_train_lr = lr .predict(X_train)\n",
    "y_test_lr  = lr .predict(X_test)\n",
    "\n",
    "y_train_svm= svm.predict(X_train)\n",
    "y_test_svm = svm.predict(X_test)\n",
    "\n",
    "# 6) Evaluate\n",
    "#from sklearn.metrics import accuracy_score\n",
    "\n",
    "results = {\n",
    "  \"Model\":           [\"Logistic Regression\",\"Linear SVM\"],\n",
    "  \"Train Accuracy\": [accuracy_score(y_train,y_train_lr),\n",
    "                     accuracy_score(y_train,y_train_svm)],\n",
    "  \"Test Accuracy\":  [accuracy_score(y_test, y_test_lr),\n",
    "                     accuracy_score(y_test, y_test_svm)]\n",
    "}\n",
    "\n",
    "#import pandas as pd\n",
    "pd.DataFrame(results)"
   ]
  },
  {
   "cell_type": "code",
   "execution_count": 11,
   "id": "14429104-fc84-417d-ada8-0a6cdc1b391d",
   "metadata": {},
   "outputs": [
    {
     "name": "stdout",
     "output_type": "stream",
     "text": [
      "   Fraction  Train Acc  Test Acc\n",
      "0       0.1   1.000000  0.190476\n",
      "1       0.2   0.996644  0.193197\n",
      "2       0.5   0.994631  0.193197\n"
     ]
    },
    {
     "data": {
      "image/png": "[encoded data removed]",
      "text/plain": [
       "<Figure size 640x480 with 1 Axes>"
      ]
     },
     "metadata": {},
     "output_type": "display_data"
    }
   ],
   "source": [
    "train_df = load_and_clean_data(\"BBC News Train.csv\")\n",
    "test_df  = load_and_clean_data(\"BBC News Test.csv\")\n",
    "\n",
    "# ─────────────────────────────────────────────────────────────────────────────\n",
    "# 2) VECTORIZE\n",
    "vect = TfidfVectorizer(max_features=1000, stop_words=\"english\")\n",
    "X_train_sup = vect.fit_transform(train_df[\"Clean_Text\"])\n",
    "X_test_sup  = vect.transform   (test_df [\"Clean_Text\"])\n",
    "\n",
    "# ─────────────────────────────────────────────────────────────────────────────\n",
    "# 3) ENCODE LABELS\n",
    "le      = LabelEncoder()\n",
    "y_train = le.fit_transform(train_df[\"Category\"])\n",
    "\n",
    "# Load the sample solution to get true test labels (735 rows)\n",
    "sample  = pd.read_csv(\"BBC News Sample Solution.csv\")\n",
    "y_test  = le.transform(sample[\"Category\"])   # now length(y_test)==735\n",
    "\n",
    "# ─────────────────────────────────────────────────────────────────────────────\n",
    "\n",
    "\n",
    "fractions    = [0.1, 0.2, 0.5,]\n",
    "results_frac = []\n",
    "rng = np.random.RandomState(42)\n",
    "n = X_train_sup.shape[0]\n",
    "\n",
    "for frac in fractions:\n",
    "    # Sample a subset of the training indices:\n",
    "    idx = rng.choice(n, size=int(frac * n), replace=False)\n",
    "    X_sub, y_sub = X_train_sup[idx], y_train[idx]\n",
    "\n",
    "    # Train on that subset\n",
    "    model = LogisticRegression(max_iter=1000, random_state=42)\n",
    "    model.fit(X_sub, y_sub)\n",
    "\n",
    "    # Evaluate on subset and on full test set\n",
    "    train_acc = accuracy_score(y_sub,       model.predict(X_sub))\n",
    "    test_acc  = accuracy_score(y_test,      model.predict(X_test_sup))\n",
    "    results_frac.append((frac, train_acc, test_acc))\n",
    "\n",
    "# Display & plot\n",
    "frac_df = pd.DataFrame(results_frac, columns=[\"Fraction\",\"Train Acc\",\"Test Acc\"])\n",
    "print(frac_df)\n",
    "\n",
    "plt.plot(frac_df[\"Fraction\"], frac_df[\"Train Acc\"], marker='o', label=\"Train\")\n",
    "plt.plot(frac_df[\"Fraction\"], frac_df[\"Test Acc\"],  marker='s', label=\"Test\")\n",
    "plt.xlabel(\"Fraction of Training Data\")\n",
    "plt.ylabel(\"Accuracy\")\n",
    "plt.title(\"Supervised Performance vs. Labeled Data Quantity\")\n",
    "plt.legend(); plt.grid(True); plt.show()"
   ]
  },
  {
   "attachments": {},
   "cell_type": "markdown",
   "id": "5d30581d-ef95-4736-80fe-a8ab51cd72a7",
   "metadata": {},
   "source": [
    "## Supervised vs. Unsupervised Comparison\n",
    "\n",
    "\n",
    "\n",
    "|Fraction of Labels | Train Accuracy | Test Accuracy |\n",
    "|--------------------|-----------|----------|\n",
    "| 10%\t             | 100.0%\t |  19.0%        |\n",
    "| 20%\t             | 99.7%\t |  19.3%        |\n",
    "| 50%\t             | 99.5%\t |  19.3%        |\n",
    "\n",
    "\n",
    "### Train Accuracy Near 100%\n",
    "\n",
    "Even with only 10% of the labels, the logistic regression model fits the sampled training subset almost perfectly (100% train acc).\n",
    "\n",
    "As we increase to 20% or 50%, train accuracy dips only marginally (< 1%), showing very quick over-fitting on labelled data.\n",
    "\n",
    "### Test Accuracy Flat at ~19%\n",
    "\n",
    "All three fractions yield almost identical test accuracy around 19%.\n",
    "\n",
    "Adding more labels (from 10% up to 50%) does not improve generalization on unseen articles.\n",
    "\n",
    "### Data Efficiency vs. Feature Quality\n",
    "\n",
    "With just 10% of the labels, you already achieve the same test performance as with 100%.\n",
    "\n",
    "This suggests that label quantity isn’t the bottleneck—feature representation (TF-IDF bag-of-ngrams) limits how well any model can distinguish the categories."
   ]
  },
  {
   "cell_type": "code",
   "execution_count": null,
   "id": "e7e52ab1-f9b9-460a-aed0-b3a1f7c02cb8",
   "metadata": {},
   "outputs": [],
   "source": []
  },
  {
   "cell_type": "code",
   "execution_count": null,
   "id": "7ab2af4a-e26e-436f-a0b2-6606c7ec85a0",
   "metadata": {},
   "outputs": [],
   "source": []
  }
 ],
 "metadata": {
  "kernelspec": {
   "display_name": "Python 3 (ipykernel)",
   "language": "python",
   "name": "python3"
  },
  "language_info": {
   "codemirror_mode": {
    "name": "ipython",
    "version": 3
   },
   "file_extension": ".py",
   "mimetype": "text/x-python",
   "name": "python",
   "nbconvert_exporter": "python",
   "pygments_lexer": "ipython3",
   "version": "3.11.0"
  }
 },
 "nbformat": 4,
 "nbformat_minor": 5
}
